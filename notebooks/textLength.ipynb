{
 "cells": [
  {
   "cell_type": "code",
   "execution_count": 17,
   "id": "9b2822e0-76d9-4c24-b684-345a137acfd9",
   "metadata": {
    "tags": []
   },
   "outputs": [],
   "source": [
    "import json\n",
    "import pandas as pd\n",
    "import os\n",
    "import numpy as np \n",
    "\n",
    "import matplotlib.pyplot as plt\n",
    "import seaborn as sns\n",
    "%matplotlib inline"
   ]
  },
  {
   "cell_type": "code",
   "execution_count": 42,
   "id": "766a1995-1040-4435-bd43-a28d875f7e54",
   "metadata": {
    "tags": []
   },
   "outputs": [],
   "source": [
    "import glob"
   ]
  },
  {
   "cell_type": "code",
   "execution_count": 46,
   "id": "6d36e0e2-b27b-4527-8d96-4c6fcb12e96b",
   "metadata": {
    "tags": []
   },
   "outputs": [
    {
     "name": "stdout",
     "output_type": "stream",
     "text": [
      "../data/tp/eu/cs/cs_Twitter.txt\n",
      "cs_Twitter.txt\n"
     ]
    }
   ],
   "source": [
    "for file in glob.glob(\"../data/tp/eu/cs/cs_Twitter*.txt\"):\n",
    "    print(file)\n",
    "    filename = os.path.basename(file)\n",
    "    print(filename)"
   ]
  },
  {
   "cell_type": "code",
   "execution_count": 22,
   "id": "6254be9b-3c09-4219-86a2-f783f5284582",
   "metadata": {
    "tags": []
   },
   "outputs": [],
   "source": [
    "inputfolder = \"../data/stats/\""
   ]
  },
  {
   "cell_type": "code",
   "execution_count": 36,
   "id": "aa1e897b-ec29-449c-9970-ea7551ef42f4",
   "metadata": {
    "tags": []
   },
   "outputs": [],
   "source": [
    "def processing_one_file(lang, query, pageType):\n",
    "    inputfile = f\"../data/stats/{query}/{lang}_{pageType}.json\"\n",
    "    if os.path.exists(inputfile):\n",
    "        with open(inputfile) as f:\n",
    "            stats = json.load(f)\n",
    "        l = stats[f\"{pageType}\"]\n",
    "        print(f\"{lang}-> {np.min(l)}, {np.median(l)}, {np.max(l)}, {len(l)}\")\n"
   ]
  },
  {
   "cell_type": "code",
   "execution_count": 37,
   "id": "bbf13e0a-1890-4d8d-81a4-a60732f6885a",
   "metadata": {
    "tags": []
   },
   "outputs": [],
   "source": [
    "pagetypes= [\"Blogs\", \"Facebook\", \"Forums\", \"Instagram\", \"News\", \"Reddit\", \"Review\", \"Tumblr\", \"Twitter\", \"YouTube\"]\n",
    "langs = [\"cs\", \"da\", \"de\", \"el\", \"en\", \"es\", \"fr\", \"hu\", \"it\", \"nl\", \"pl\", \"sk\", \"sv\"]"
   ]
  },
  {
   "cell_type": "code",
   "execution_count": 38,
   "id": "4d4faaf4-5d78-4103-aac7-34c7d1e09b2a",
   "metadata": {
    "tags": []
   },
   "outputs": [],
   "source": [
    "def processing_one_query(query):\n",
    "    for pageType in pagetypes:\n",
    "        print(\"*****\", pageType,\"****\")\n",
    "        for lang in langs:\n",
    "            processing_one_file(lang, query, pageType)\n",
    "        "
   ]
  },
  {
   "cell_type": "code",
   "execution_count": 39,
   "id": "0bb6e1ab-e8d9-409f-9bea-780c134bd900",
   "metadata": {
    "tags": []
   },
   "outputs": [
    {
     "name": "stdout",
     "output_type": "stream",
     "text": [
      "***** Blogs ****\n",
      "cs-> 2, 106.0, 40781, 15840\n",
      "da-> 1, 411.0, 89473, 8618\n",
      "el-> 1, 7.0, 21931, 20144\n",
      "es-> 1, 554.0, 104202, 49842\n",
      "hu-> 1, 193.0, 30836, 25011\n",
      "it-> 1, 484.0, 123957, 35370\n",
      "pl-> 1, 439.0, 33124, 9085\n",
      "sk-> 2, 46.0, 30228, 4242\n",
      "sv-> 1, 331.0, 38444, 25104\n",
      "***** Facebook ****\n",
      "***** Forums ****\n",
      "cs-> 1, 39.0, 16010, 65297\n",
      "da-> 1, 162.0, 34362, 3809\n",
      "el-> 1, 6.0, 6056, 1094\n",
      "es-> 1, 128.0, 39178, 28267\n",
      "hu-> 1, 75.0, 8779, 14617\n",
      "it-> 1, 186.0, 30164, 11224\n",
      "pl-> 1, 97.0, 25447, 7263\n",
      "sk-> 1, 56.0, 9566, 2073\n",
      "sv-> 1, 126.0, 35002, 53068\n",
      "***** Instagram ****\n",
      "cs-> 1, 48.0, 286, 165\n",
      "da-> 1, 36.0, 250, 192\n",
      "el-> 1, 11.0, 166, 7\n",
      "es-> 1, 55.0, 342, 2691\n",
      "hu-> 1, 25.0, 206, 29\n",
      "it-> 1, 37.0, 290, 1364\n",
      "pl-> 1, 26.0, 187, 273\n",
      "sk-> 1, 19.0, 180, 24\n",
      "sv-> 1, 29.0, 325, 263\n",
      "***** News ****\n",
      "cs-> 1, 39.0, 62, 108621\n",
      "da-> 1, 37.0, 74, 155566\n",
      "el-> 1, 1.0, 66, 104056\n",
      "es-> 1, 41.0, 61, 452179\n",
      "hu-> 1, 36.0, 69, 160469\n",
      "it-> 1, 35.0, 64, 195332\n",
      "pl-> 1, 38.0, 66, 108732\n",
      "sk-> 1, 40.0, 62, 14883\n",
      "sv-> 1, 39.0, 66, 198400\n",
      "***** Reddit ****\n",
      "cs-> 1, 46.0, 478, 31\n",
      "da-> 1, 48.0, 1807, 3166\n",
      "el-> 1, 1.0, 76, 67\n",
      "es-> 5, 114.0, 1688, 265\n",
      "hu-> 1, 84.5, 2050, 418\n",
      "it-> 1, 33.0, 1237, 823\n",
      "pl-> 6, 97.0, 2273, 203\n",
      "sk-> 1, 103.0, 625, 11\n",
      "sv-> 1, 56.5, 1488, 1894\n",
      "***** Review ****\n",
      "***** Tumblr ****\n",
      "cs-> 3, 53.0, 2365, 816\n",
      "da-> 1, 23.0, 2711, 711\n",
      "el-> 1, 3.0, 285, 2012\n",
      "es-> 2, 306.0, 2564, 19359\n",
      "hu-> 1, 94.0, 2158, 3905\n",
      "it-> 1, 116.0, 2480, 8222\n",
      "pl-> 2, 34.0, 2183, 714\n",
      "sk-> 1, 45.0, 234, 98\n",
      "sv-> 2, 27.0, 2662, 1031\n",
      "***** Twitter ****\n",
      "cs-> 1, 13.0, 44, 38884\n",
      "da-> 1, 12.0, 44, 200796\n",
      "el-> 1, 1.0, 13, 10850\n",
      "es-> 1, 11.0, 48, 1380245\n",
      "hu-> 2, 10.0, 37, 8218\n",
      "it-> 1, 14.0, 47, 616701\n",
      "pl-> 1, 15.0, 41, 110570\n",
      "sk-> 3, 10.0, 18, 414\n",
      "sv-> 1, 14.0, 47, 212940\n",
      "***** YouTube ****\n",
      "cs-> 1, 80.0, 1320, 2597\n",
      "da-> 1, 52.0, 1016, 540\n",
      "el-> 1, 3.0, 59, 214\n",
      "es-> 1, 69.0, 1898, 7057\n",
      "hu-> 2, 70.0, 1233, 3971\n",
      "it-> 1, 75.0, 1376, 6794\n",
      "pl-> 1, 55.0, 1230, 3570\n",
      "sk-> 2, 70.0, 797, 319\n",
      "sv-> 1, 65.0, 1181, 1392\n"
     ]
    }
   ],
   "source": [
    "processing_one_query(\"eu\")"
   ]
  },
  {
   "cell_type": "code",
   "execution_count": 41,
   "id": "660472b1-67c5-4690-8a9e-d067c78b28a2",
   "metadata": {
    "tags": []
   },
   "outputs": [
    {
     "name": "stdout",
     "output_type": "stream",
     "text": [
      "***** Blogs ****\n",
      "cs-> 2, 342.0, 27000, 3723\n",
      "da-> 2, 546.0, 26995, 2641\n",
      "el-> 1, 6.0, 19287, 106012\n",
      "es-> 1, 493.0, 153231, 73295\n",
      "hu-> 2, 245.0, 37323, 7350\n",
      "it-> 1, 539.0, 123957, 16181\n",
      "pl-> 3, 491.0, 27166, 1212\n",
      "sk-> 3, 124.5, 14317, 1248\n",
      "sv-> 1, 283.0, 32981, 9109\n",
      "***** Facebook ****\n",
      "es-> 27, 45.5, 61, 4\n",
      "it-> 37, 53.0, 176, 8\n",
      "***** Forums ****\n",
      "cs-> 1, 2875.5, 9832, 1838\n",
      "da-> 1, 184.0, 34362, 701\n",
      "el-> 1, 7.0, 4931, 3600\n",
      "es-> 1, 236.0, 44515, 13550\n",
      "hu-> 4, 83.0, 7061, 3257\n",
      "it-> 2, 230.0, 30144, 3830\n",
      "pl-> 4, 73.0, 14063, 659\n",
      "sk-> 1, 91.0, 6004, 524\n",
      "sv-> 2, 155.0, 34270, 12316\n",
      "***** Instagram ****\n",
      "cs-> 16, 105.5, 244, 22\n",
      "da-> 1, 39.0, 164, 59\n",
      "el-> 1, 14.5, 166, 80\n",
      "es-> 1, 85.5, 323, 7368\n",
      "hu-> 13, 46.0, 256, 13\n",
      "it-> 1, 50.0, 288, 777\n",
      "pl-> 4, 82.0, 153, 13\n",
      "sk-> 4, 69.5, 201, 6\n",
      "sv-> 1, 34.0, 331, 401\n",
      "***** News ****\n",
      "cs-> 1, 39.0, 5287, 30262\n",
      "da-> 1, 36.0, 61, 40843\n",
      "el-> 1, 1.0, 414, 420835\n",
      "es-> 1, 40.0, 63, 493629\n",
      "hu-> 1, 36.0, 69, 50253\n",
      "it-> 1, 35.0, 60, 96723\n",
      "pl-> 1, 38.0, 58, 12680\n",
      "sk-> 2, 40.0, 58, 9827\n",
      "sv-> 1, 39.0, 67, 73927\n",
      "***** Reddit ****\n",
      "cs-> 14, 71.0, 71, 3\n",
      "da-> 1, 54.0, 1374, 414\n",
      "el-> 1, 1.0, 1289, 1018\n",
      "es-> 1, 247.5, 2335, 446\n",
      "hu-> 6, 62.5, 629, 42\n",
      "it-> 5, 70.0, 1533, 102\n",
      "pl-> 1, 24.5, 2166, 96\n",
      "sk-> 37, 244.5, 384, 4\n",
      "sv-> 1, 58.0, 1290, 635\n",
      "***** Review ****\n",
      "***** Tumblr ****\n",
      "cs-> 6, 52.5, 984, 214\n",
      "da-> 1, 22.5, 1187, 122\n",
      "el-> 1, 3.0, 657, 6481\n",
      "es-> 1, 302.0, 2623, 16545\n",
      "hu-> 5, 161.5, 2225, 836\n",
      "it-> 1, 125.0, 2308, 4213\n",
      "pl-> 3, 39.5, 1706, 96\n",
      "sk-> 12, 53.5, 426, 62\n",
      "sv-> 3, 30.0, 2223, 281\n",
      "***** Twitter ****\n",
      "cs-> 1, 14.0, 41, 7231\n",
      "da-> 1, 14.0, 41, 15081\n",
      "el-> 1, 1.0, 13, 96500\n",
      "es-> 1, 16.0, 49, 1718940\n",
      "hu-> 2, 10.0, 36, 2935\n",
      "it-> 1, 17.0, 42, 217390\n",
      "pl-> 1, 21.0, 37, 16370\n",
      "sk-> 4, 11.0, 20, 95\n",
      "sv-> 1, 18.0, 46, 88518\n",
      "***** YouTube ****\n",
      "cs-> 2, 33.0, 1052, 638\n",
      "da-> 1, 59.0, 402, 95\n",
      "el-> 1, 2.0, 1703, 2261\n",
      "es-> 1, 44.0, 1579, 29049\n",
      "hu-> 2, 66.0, 1182, 877\n",
      "it-> 1, 81.0, 1127, 2415\n",
      "pl-> 2, 55.5, 47050, 306\n",
      "sk-> 14, 88.0, 1475, 49\n",
      "sv-> 2, 54.0, 1455, 832\n"
     ]
    }
   ],
   "source": [
    "processing_one_query(\"un\")"
   ]
  },
  {
   "cell_type": "code",
   "execution_count": 20,
   "id": "97ca3c07-3800-467e-b2bd-75d6e83724b1",
   "metadata": {
    "tags": []
   },
   "outputs": [
    {
     "data": {
      "text/plain": [
       "(2, 106.0, 40781)"
      ]
     },
     "execution_count": 20,
     "metadata": {},
     "output_type": "execute_result"
    }
   ],
   "source": [
    "np.min(l), np.median(l), np.max(l)"
   ]
  },
  {
   "cell_type": "code",
   "execution_count": null,
   "id": "4820420e-f1a0-442b-988e-a3b9634dabb4",
   "metadata": {},
   "outputs": [],
   "source": []
  },
  {
   "cell_type": "code",
   "execution_count": 13,
   "id": "3e1e6698-400b-4fcc-a235-51711f40b137",
   "metadata": {
    "tags": []
   },
   "outputs": [],
   "source": [
    "df = pd.DataFrame.from_dict(stats)"
   ]
  },
  {
   "cell_type": "code",
   "execution_count": 15,
   "id": "10d4db02-645c-4d78-a560-e34caef1b482",
   "metadata": {
    "tags": []
   },
   "outputs": [
    {
     "data": {
      "text/plain": [
       "<seaborn.axisgrid.FacetGrid at 0x7f8fe033fca0>"
      ]
     },
     "execution_count": 15,
     "metadata": {},
     "output_type": "execute_result"
    },
    {
     "data": {
      "image/png": "[encoded data removed]",
      "text/plain": [
       "<Figure size 500x500 with 1 Axes>"
      ]
     },
     "metadata": {},
     "output_type": "display_data"
    }
   ],
   "source": [
    "sns.displot(df, x=\"Blogs\")"
   ]
  },
  {
   "cell_type": "code",
   "execution_count": null,
   "id": "8d2542f7-6fec-4234-8a3e-cc22b09ce770",
   "metadata": {},
   "outputs": [],
   "source": []
  },
  {
   "cell_type": "code",
   "execution_count": null,
   "id": "060b7f8e-1535-4a53-a907-7ed5040566fc",
   "metadata": {},
   "outputs": [],
   "source": []
  }
 ],
 "metadata": {
  "kernelspec": {
   "display_name": "mg",
   "language": "python",
   "name": "mg"
  },
  "language_info": {
   "codemirror_mode": {
    "name": "ipython",
    "version": 3
   },
   "file_extension": ".py",
   "mimetype": "text/x-python",
   "name": "python",
   "nbconvert_exporter": "python",
   "pygments_lexer": "ipython3",
   "version": "3.10.9"
  }
 },
 "nbformat": 4,
 "nbformat_minor": 5
}
