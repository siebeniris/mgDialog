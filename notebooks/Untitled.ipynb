{
 "cells": [
  {
   "cell_type": "code",
   "execution_count": 16,
   "id": "c6fc6b4f-c5f8-442d-9fe7-8c5d8e750935",
   "metadata": {
    "tags": []
   },
   "outputs": [],
   "source": [
    "import pickle \n",
    "\n",
    "from yaml import load\n",
    "\n",
    "try:\n",
    "    from yaml import CLoader as Loader, CDumper as Dumper\n",
    "except ImportError:\n",
    "    from yaml import Loader, Dumper\n",
    "    \n",
    "from collections import defaultdict\n",
    "from tqdm import tqdm\n",
    "import os"
   ]
  },
  {
   "cell_type": "code",
   "execution_count": 17,
   "id": "eca1b062-0bb7-447d-8a2e-e5e11a799f92",
   "metadata": {
    "tags": []
   },
   "outputs": [],
   "source": [
    "def load_languages():\n",
    "    with open(\"../data/config.yaml\") as f:\n",
    "        langs = load(f, Loader=Loader)[\"langs\"]\n",
    "    return langs"
   ]
  },
  {
   "cell_type": "code",
   "execution_count": 25,
   "id": "5f463fe6-7e14-4997-8f38-8390721ec165",
   "metadata": {
    "tags": []
   },
   "outputs": [],
   "source": [
    "def get_vocab_stats():\n",
    "    langs = load_languages()\n",
    "    \n",
    "    vocab_dict= defaultdict(dict)\n",
    "    \n",
    "    data_folder = \"../data/tp\"\n",
    "    for query in [\"eu\",\"un\"]:\n",
    "        vocab_dict[query] = defaultdict(dict)\n",
    "        \n",
    "        for lang in tqdm(langs):\n",
    "            vocab_path = f\"{data_folder}/{query}/{lang}/{lang}_Twitter/vocab.pkl\"\n",
    "            if os.path.exists(vocab_path):\n",
    "                with open(vocab_path, 'rb') as f:\n",
    "                    vocab = pickle.load(f)\n",
    "                vocab_dict[query][lang] = len(vocab)\n",
    "\n",
    "    return vocab_dict"
   ]
  },
  {
   "cell_type": "code",
   "execution_count": 26,
   "id": "7d944991-b052-4408-b4c0-9d306846df7f",
   "metadata": {
    "tags": []
   },
   "outputs": [
    {
     "name": "stderr",
     "output_type": "stream",
     "text": [
      "100%|██████████████████████████████████████████████████████████████| 13/13 [00:00<00:00, 851.95it/s]\n",
      "100%|█████████████████████████████████████████████████████████████| 13/13 [00:00<00:00, 2190.41it/s]\n"
     ]
    }
   ],
   "source": [
    "vocab_dict= get_vocab_stats()"
   ]
  },
  {
   "cell_type": "code",
   "execution_count": 27,
   "id": "61c8b3f7-d988-498e-a1f4-f97ad3ab82f9",
   "metadata": {
    "tags": []
   },
   "outputs": [
    {
     "data": {
      "text/plain": [
       "defaultdict(dict,\n",
       "            {'eu': defaultdict(dict,\n",
       "                         {'cs': 3866,\n",
       "                          'da': 7410,\n",
       "                          'de': 18613,\n",
       "                          'es': 9597,\n",
       "                          'hu': 1000,\n",
       "                          'it': 9103,\n",
       "                          'nl': 10283,\n",
       "                          'pl': 4477,\n",
       "                          'sk': 36,\n",
       "                          'sv': 6432}),\n",
       "             'un': defaultdict(dict,\n",
       "                         {'cs': 739,\n",
       "                          'da': 1480,\n",
       "                          'de': 5205,\n",
       "                          'es': 11357,\n",
       "                          'hu': 367,\n",
       "                          'it': 4205,\n",
       "                          'pl': 574,\n",
       "                          'sk': 7,\n",
       "                          'sv': 3078})})"
      ]
     },
     "execution_count": 27,
     "metadata": {},
     "output_type": "execute_result"
    }
   ],
   "source": [
    "vocab_dict"
   ]
  },
  {
   "cell_type": "code",
   "execution_count": null,
   "id": "63ff01ee-b706-4010-9a24-0753b99f87dd",
   "metadata": {},
   "outputs": [],
   "source": [
    "../data/tp/topic_words.json\""
   ]
  },
  {
   "cell_type": "code",
   "execution_count": null,
   "id": "bff82f82-0e4d-44db-805e-4edc04674d45",
   "metadata": {},
   "outputs": [],
   "source": []
  }
 ],
 "metadata": {
  "kernelspec": {
   "display_name": "mg",
   "language": "python",
   "name": "mg"
  },
  "language_info": {
   "codemirror_mode": {
    "name": "ipython",
    "version": 3
   },
   "file_extension": ".py",
   "mimetype": "text/x-python",
   "name": "python",
   "nbconvert_exporter": "python",
   "pygments_lexer": "ipython3",
   "version": "3.10.9"
  }
 },
 "nbformat": 4,
 "nbformat_minor": 5
}
