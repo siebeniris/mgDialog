{
 "cells": [
  {
   "cell_type": "code",
   "execution_count": 33,
   "id": "2a40b95e-af48-4195-860a-9cea2e5353ca",
   "metadata": {
    "tags": []
   },
   "outputs": [],
   "source": [
    "import pandas as pd\n",
    "import os\n",
    "import json\n",
    "from glob import glob\n",
    "\n",
    "from yaml import load\n",
    "\n",
    "try:\n",
    "    from yaml import CLoader as Loader, CDumper as Dumper\n",
    "except ImportError:\n",
    "    from yaml import Loader, Dumper\n",
    "\n",
    "from tqdm import tqdm\n",
    "from collections import defaultdict\n",
    "import numpy as np"
   ]
  },
  {
   "cell_type": "code",
   "execution_count": 4,
   "id": "75090c3f-428e-47c8-b2cc-85866228ae2b",
   "metadata": {
    "tags": []
   },
   "outputs": [],
   "source": [
    "def load_languages():\n",
    "    with open(\"../data/config.yaml\") as f:\n",
    "        langs = load(f, Loader=Loader)[\"langs\"]\n",
    "    return langs"
   ]
  },
  {
   "cell_type": "code",
   "execution_count": 7,
   "id": "5e7a260c-95ba-4447-8114-4e0f196839f4",
   "metadata": {
    "tags": []
   },
   "outputs": [],
   "source": [
    "test_path = \"../data/tp/eu/cs/cs_Twitter.csv\""
   ]
  },
  {
   "cell_type": "code",
   "execution_count": 8,
   "id": "1de34a42-2037-422e-bdce-d97d1c14bc9a",
   "metadata": {
    "tags": []
   },
   "outputs": [],
   "source": [
    "df = pd.read_csv(test_path)"
   ]
  },
  {
   "cell_type": "code",
   "execution_count": 10,
   "id": "d6573edd-8a65-48f4-a917-c3704502e2ca",
   "metadata": {
    "tags": []
   },
   "outputs": [],
   "source": [
    "df[\"year\"]= df[\"date\"].str[:4]"
   ]
  },
  {
   "cell_type": "code",
   "execution_count": 17,
   "id": "cfa5e359-5ba2-4b4d-b9f6-5b06bdab0db0",
   "metadata": {
    "scrolled": true,
    "tags": []
   },
   "outputs": [
    {
     "data": {
      "text/plain": [
       "{'resourceId': {'2014': 486,\n",
       "  '2015': 6734,\n",
       "  '2016': 6496,\n",
       "  '2017': 5683,\n",
       "  '2018': 11682,\n",
       "  '2019': 7803},\n",
       " 'date': {'2014': 486,\n",
       "  '2015': 6734,\n",
       "  '2016': 6496,\n",
       "  '2017': 5683,\n",
       "  '2018': 11682,\n",
       "  '2019': 7803},\n",
       " 'countryCode': {'2014': 293,\n",
       "  '2015': 4410,\n",
       "  '2016': 4211,\n",
       "  '2017': 3297,\n",
       "  '2018': 5390,\n",
       "  '2019': 3284},\n",
       " 'preprocessed_text': {'2014': 486,\n",
       "  '2015': 6734,\n",
       "  '2016': 6496,\n",
       "  '2017': 5683,\n",
       "  '2018': 11682,\n",
       "  '2019': 7803},\n",
       " 'month': {'2014': 486,\n",
       "  '2015': 6734,\n",
       "  '2016': 6496,\n",
       "  '2017': 5683,\n",
       "  '2018': 11682,\n",
       "  '2019': 7803},\n",
       " 'LEN': {'2014': 486,\n",
       "  '2015': 6734,\n",
       "  '2016': 6496,\n",
       "  '2017': 5683,\n",
       "  '2018': 11682,\n",
       "  '2019': 7803}}"
      ]
     },
     "execution_count": 17,
     "metadata": {},
     "output_type": "execute_result"
    }
   ],
   "source": [
    "\n",
    "df.groupby(\"year\").agg(\"count\").to_dict()"
   ]
  },
  {
   "cell_type": "code",
   "execution_count": 24,
   "id": "58c14a41-feb8-489c-a004-73a4dd6f7c5b",
   "metadata": {
    "tags": []
   },
   "outputs": [],
   "source": [
    "def get_stats():\n",
    "    langs = load_languages()\n",
    "    \n",
    "    data_vol_dict= defaultdict(dict)\n",
    "    data_len_dict =defaultdict(dict)\n",
    "    \n",
    "    data_folder = \"../data/tp\"\n",
    "    for query in [\"eu\",\"un\"]:\n",
    "        data_vol_dict[query] = defaultdict(dict)\n",
    "        data_len_dict[query] = defaultdict(list)\n",
    "        \n",
    "        for lang in tqdm(langs):\n",
    "            general_path = f\"{data_folder}/{query}/{lang}/{lang}_Twitter\"\n",
    "            if os.path.exists(general_path):\n",
    "                print(f\"processing{general_path}\")\n",
    "                orig_file = f\"{general_path}.csv\"\n",
    "                df = pd.read_csv(orig_file)\n",
    "                df[\"year\"]= df[\"date\"].str[:4]\n",
    "                data_vol_dict[query][lang] = df.groupby(\"year\").agg(\"count\").to_dict()[\"resourceId\"]\n",
    "                data_len_dict[query][lang]+= df[\"LEN\"].tolist()\n",
    "    return data_vol_dict, data_len_dict\n",
    "    "
   ]
  },
  {
   "cell_type": "code",
   "execution_count": 25,
   "id": "5d93a59b-c9cb-4a1d-892f-8f95df0396af",
   "metadata": {
    "scrolled": true,
    "tags": []
   },
   "outputs": [
    {
     "name": "stderr",
     "output_type": "stream",
     "text": [
      "  8%|████▉                                                           | 1/13 [00:00<00:01,  7.93it/s]"
     ]
    },
    {
     "name": "stdout",
     "output_type": "stream",
     "text": [
      "processing../data/tp/eu/cs/cs_Twitter\n",
      "processing../data/tp/eu/da/da_Twitter\n"
     ]
    },
    {
     "name": "stderr",
     "output_type": "stream",
     "text": [
      " 15%|█████████▊                                                      | 2/13 [00:00<00:04,  2.65it/s]"
     ]
    },
    {
     "name": "stdout",
     "output_type": "stream",
     "text": [
      "processing../data/tp/eu/de/de_Twitter\n"
     ]
    },
    {
     "name": "stderr",
     "output_type": "stream",
     "text": [
      " 23%|██████████████▊                                                 | 3/13 [00:03<00:14,  1.50s/it]"
     ]
    },
    {
     "name": "stdout",
     "output_type": "stream",
     "text": [
      "processing../data/tp/eu/es/es_Twitter\n"
     ]
    },
    {
     "name": "stderr",
     "output_type": "stream",
     "text": [
      " 46%|█████████████████████████████▌                                  | 6/13 [00:06<00:08,  1.24s/it]"
     ]
    },
    {
     "name": "stdout",
     "output_type": "stream",
     "text": [
      "processing../data/tp/eu/hu/hu_Twitter\n",
      "processing../data/tp/eu/it/it_Twitter\n"
     ]
    },
    {
     "name": "stderr",
     "output_type": "stream",
     "text": [
      " 69%|████████████████████████████████████████████▎                   | 9/13 [00:08<00:03,  1.12it/s]"
     ]
    },
    {
     "name": "stdout",
     "output_type": "stream",
     "text": [
      "processing../data/tp/eu/nl/nl_Twitter\n"
     ]
    },
    {
     "name": "stderr",
     "output_type": "stream",
     "text": [
      " 77%|████████████████████████████████████████████████▍              | 10/13 [00:09<00:03,  1.00s/it]"
     ]
    },
    {
     "name": "stdout",
     "output_type": "stream",
     "text": [
      "processing../data/tp/eu/pl/pl_Twitter\n"
     ]
    },
    {
     "name": "stderr",
     "output_type": "stream",
     "text": [
      " 85%|█████████████████████████████████████████████████████▎         | 11/13 [00:10<00:01,  1.16it/s]"
     ]
    },
    {
     "name": "stdout",
     "output_type": "stream",
     "text": [
      "processing../data/tp/eu/sk/sk_Twitter\n",
      "processing../data/tp/eu/sv/sv_Twitter\n"
     ]
    },
    {
     "name": "stderr",
     "output_type": "stream",
     "text": [
      "100%|███████████████████████████████████████████████████████████████| 13/13 [00:10<00:00,  1.20it/s]\n",
      "  0%|                                                                        | 0/13 [00:00<?, ?it/s]"
     ]
    },
    {
     "name": "stdout",
     "output_type": "stream",
     "text": [
      "processing../data/tp/un/cs/cs_Twitter\n",
      "processing../data/tp/un/da/da_Twitter\n",
      "processing../data/tp/un/de/de_Twitter\n"
     ]
    },
    {
     "name": "stderr",
     "output_type": "stream",
     "text": [
      " 23%|██████████████▊                                                 | 3/13 [00:00<00:01,  5.28it/s]"
     ]
    },
    {
     "name": "stdout",
     "output_type": "stream",
     "text": [
      "processing../data/tp/un/es/es_Twitter\n"
     ]
    },
    {
     "name": "stderr",
     "output_type": "stream",
     "text": [
      " 46%|█████████████████████████████▌                                  | 6/13 [00:05<00:06,  1.05it/s]"
     ]
    },
    {
     "name": "stdout",
     "output_type": "stream",
     "text": [
      "processing../data/tp/un/hu/hu_Twitter\n",
      "processing../data/tp/un/it/it_Twitter\n"
     ]
    },
    {
     "name": "stderr",
     "output_type": "stream",
     "text": [
      " 69%|████████████████████████████████████████████▎                   | 9/13 [00:05<00:02,  1.65it/s]"
     ]
    },
    {
     "name": "stdout",
     "output_type": "stream",
     "text": [
      "processing../data/tp/un/pl/pl_Twitter\n",
      "processing../data/tp/un/sk/sk_Twitter\n",
      "processing../data/tp/un/sv/sv_Twitter\n"
     ]
    },
    {
     "name": "stderr",
     "output_type": "stream",
     "text": [
      "100%|███████████████████████████████████████████████████████████████| 13/13 [00:05<00:00,  2.20it/s]\n"
     ]
    }
   ],
   "source": [
    "data_vol_dict, data_len_dict = get_stats()"
   ]
  },
  {
   "cell_type": "code",
   "execution_count": 28,
   "id": "c932b854-322f-46cd-8795-ce5b49d0caf0",
   "metadata": {
    "tags": []
   },
   "outputs": [],
   "source": [
    "df_eu = pd.DataFrame.from_dict(data_vol_dict[\"eu\"])"
   ]
  },
  {
   "cell_type": "code",
   "execution_count": 30,
   "id": "c61a8094-68fd-4377-a997-bc72b14d5ca4",
   "metadata": {
    "tags": []
   },
   "outputs": [],
   "source": [
    "df_eu.to_csv(\"../data/stats/eu_twitter_stats_original.csv\")"
   ]
  },
  {
   "cell_type": "code",
   "execution_count": 31,
   "id": "0d8acba9-b94c-4850-9c5b-965cc136683b",
   "metadata": {
    "tags": []
   },
   "outputs": [],
   "source": [
    "df_un = pd.DataFrame.from_dict(data_vol_dict[\"un\"])\n",
    "df_un.to_csv(\"../data/stats/un_twitter_stats_original.csv\")"
   ]
  },
  {
   "cell_type": "code",
   "execution_count": 35,
   "id": "038667c6-ff6a-45f2-97ef-74b7d596e860",
   "metadata": {
    "tags": []
   },
   "outputs": [],
   "source": [
    "lang_len_dict=defaultdict(dict)\n",
    "for query, query_dict in data_len_dict.items():\n",
    "    lang_len_dict[query]= defaultdict(dict)\n",
    "    for lang, lens in query_dict.items():\n",
    "        lang_len_dict[query][lang]= {\"min\":np.min(lens),\n",
    "                                     \"median\":np.median(lens),\"max\":np.max(lens)}                       "
   ]
  },
  {
   "cell_type": "code",
   "execution_count": 38,
   "id": "724df93f-bcc8-47a9-8058-d0a3df640f27",
   "metadata": {
    "tags": []
   },
   "outputs": [],
   "source": [
    "df_len_eu = pd.DataFrame.from_dict(lang_len_dict[\"eu\"],orient=\"index\")"
   ]
  },
  {
   "cell_type": "code",
   "execution_count": 40,
   "id": "21756ed4-d7aa-4ad0-a88f-0170fb18f90f",
   "metadata": {
    "tags": []
   },
   "outputs": [],
   "source": [
    "df_len_un = pd.DataFrame.from_dict(lang_len_dict[\"un\"],orient=\"index\")"
   ]
  },
  {
   "cell_type": "code",
   "execution_count": 41,
   "id": "3178a020-72e6-4ed4-93be-6bd388f882c4",
   "metadata": {
    "tags": []
   },
   "outputs": [],
   "source": [
    "df_len_eu.to_csv(\"../data/stats/eu_twitter_text_len.csv\")\n",
    "df_len_un.to_csv(\"../data/stats/un_twitter_text_len.csv\")"
   ]
  },
  {
   "cell_type": "code",
   "execution_count": null,
   "id": "2139f0e2-5920-4be2-ad29-8df443f0ebe9",
   "metadata": {},
   "outputs": [],
   "source": []
  },
  {
   "cell_type": "code",
   "execution_count": null,
   "id": "a50ba189-3f3e-4fec-b557-9f205180c17e",
   "metadata": {},
   "outputs": [],
   "source": []
  },
  {
   "cell_type": "code",
   "execution_count": 51,
   "id": "2630fc22-51f1-4dcc-a3a0-4714589df8f9",
   "metadata": {
    "tags": []
   },
   "outputs": [],
   "source": [
    "def get_stats_training_data():\n",
    "    langs = load_languages()\n",
    "    \n",
    "    data_vol_dict= defaultdict(dict)\n",
    "    \n",
    "    data_folder = \"../data/tp\"\n",
    "    for query in [\"eu\",\"un\"]:\n",
    "        data_vol_dict[query] = defaultdict(dict)\n",
    "        data_len_dict[query] = defaultdict(list)\n",
    "        \n",
    "        for lang in tqdm(langs):\n",
    "            general_path = f\"{data_folder}/{query}/{lang}/{lang}_Twitter\"\n",
    "            if os.path.exists(general_path):\n",
    "                print(f\"processing{general_path}\")\n",
    "                orig_file = f\"{general_path}/{lang}_Twitter.csv\"\n",
    "                df = pd.read_csv(orig_file)\n",
    "                df[\"year\"]= df[\"date\"].str[:4]\n",
    "                data_vol_dict[query][lang] = df.groupby(\"year\").agg(\"count\").to_dict()[\"resourceId\"]\n",
    "    return data_vol_dict, data_len_dict\n",
    "    "
   ]
  },
  {
   "cell_type": "code",
   "execution_count": 52,
   "id": "8014176a-2099-4ddb-94eb-752cacac2e29",
   "metadata": {
    "scrolled": true,
    "tags": []
   },
   "outputs": [
    {
     "name": "stderr",
     "output_type": "stream",
     "text": [
      "  0%|                                                                        | 0/13 [00:00<?, ?it/s]"
     ]
    },
    {
     "name": "stdout",
     "output_type": "stream",
     "text": [
      "processing../data/tp/eu/cs/cs_Twitter\n",
      "processing../data/tp/eu/da/da_Twitter\n"
     ]
    },
    {
     "name": "stderr",
     "output_type": "stream",
     "text": [
      " 15%|█████████▊                                                      | 2/13 [00:00<00:01,  7.68it/s]"
     ]
    },
    {
     "name": "stdout",
     "output_type": "stream",
     "text": [
      "processing../data/tp/eu/de/de_Twitter\n"
     ]
    },
    {
     "name": "stderr",
     "output_type": "stream",
     "text": [
      " 23%|██████████████▊                                                 | 3/13 [00:01<00:04,  2.33it/s]"
     ]
    },
    {
     "name": "stdout",
     "output_type": "stream",
     "text": [
      "processing../data/tp/eu/es/es_Twitter\n"
     ]
    },
    {
     "name": "stderr",
     "output_type": "stream",
     "text": [
      " 46%|█████████████████████████████▌                                  | 6/13 [00:01<00:01,  3.77it/s]"
     ]
    },
    {
     "name": "stdout",
     "output_type": "stream",
     "text": [
      "processing../data/tp/eu/hu/hu_Twitter\n",
      "processing../data/tp/eu/it/it_Twitter\n"
     ]
    },
    {
     "name": "stderr",
     "output_type": "stream",
     "text": [
      " 69%|████████████████████████████████████████████▎                   | 9/13 [00:01<00:00,  5.08it/s]"
     ]
    },
    {
     "name": "stdout",
     "output_type": "stream",
     "text": [
      "processing../data/tp/eu/nl/nl_Twitter\n"
     ]
    },
    {
     "name": "stderr",
     "output_type": "stream",
     "text": [
      " 77%|████████████████████████████████████████████████▍              | 10/13 [00:02<00:00,  4.31it/s]"
     ]
    },
    {
     "name": "stdout",
     "output_type": "stream",
     "text": [
      "processing../data/tp/eu/pl/pl_Twitter\n",
      "processing../data/tp/eu/sk/sk_Twitter\n",
      "processing../data/tp/eu/sv/sv_Twitter\n"
     ]
    },
    {
     "name": "stderr",
     "output_type": "stream",
     "text": [
      "100%|███████████████████████████████████████████████████████████████| 13/13 [00:02<00:00,  4.91it/s]\n",
      " 23%|██████████████▊                                                 | 3/13 [00:00<00:00, 21.91it/s]"
     ]
    },
    {
     "name": "stdout",
     "output_type": "stream",
     "text": [
      "processing../data/tp/un/cs/cs_Twitter\n",
      "processing../data/tp/un/da/da_Twitter\n",
      "processing../data/tp/un/de/de_Twitter\n",
      "processing../data/tp/un/es/es_Twitter\n"
     ]
    },
    {
     "name": "stderr",
     "output_type": "stream",
     "text": [
      "100%|███████████████████████████████████████████████████████████████| 13/13 [00:00<00:00, 15.03it/s]"
     ]
    },
    {
     "name": "stdout",
     "output_type": "stream",
     "text": [
      "processing../data/tp/un/hu/hu_Twitter\n",
      "processing../data/tp/un/it/it_Twitter\n",
      "processing../data/tp/un/pl/pl_Twitter\n",
      "processing../data/tp/un/sk/sk_Twitter\n",
      "processing../data/tp/un/sv/sv_Twitter\n"
     ]
    },
    {
     "name": "stderr",
     "output_type": "stream",
     "text": [
      "\n"
     ]
    }
   ],
   "source": [
    "data_vol_dict, data_len_dict = get_stats_training_data()"
   ]
  },
  {
   "cell_type": "code",
   "execution_count": 54,
   "id": "07c384b2-3b92-4fa8-a4f3-a65f90c4e46b",
   "metadata": {
    "scrolled": true,
    "tags": []
   },
   "outputs": [],
   "source": [
    "df_eu = pd.DataFrame.from_dict(data_vol_dict[\"eu\"])\n",
    "df_eu.to_csv(\"../data/stats/eu_twitter_stats_training.csv\")"
   ]
  },
  {
   "cell_type": "code",
   "execution_count": 55,
   "id": "516779de-4cea-441c-a85c-8e57572279d7",
   "metadata": {
    "tags": []
   },
   "outputs": [],
   "source": [
    "df_un = pd.DataFrame.from_dict(data_vol_dict[\"un\"])\n",
    "df_un.to_csv(\"../data/stats/un_twitter_stats_training.csv\")"
   ]
  },
  {
   "cell_type": "code",
   "execution_count": null,
   "id": "06673b0d-435c-40ee-bb72-a1229f8ede04",
   "metadata": {},
   "outputs": [],
   "source": []
  },
  {
   "cell_type": "code",
   "execution_count": 44,
   "id": "d5b40120-4893-4a02-93dc-6ba67a5b550a",
   "metadata": {
    "tags": []
   },
   "outputs": [],
   "source": [
    "def get_stats_results():\n",
    "    langs = load_languages()\n",
    "    \n",
    "    data_vol_dict= defaultdict(dict)\n",
    "    data_len_dict =defaultdict(dict)\n",
    "    \n",
    "    data_folder = \"../output/tp\"\n",
    "    for query in [\"eu\",\"un\"]:\n",
    "        data_vol_dict[query] = defaultdict(dict)\n",
    "        data_len_dict[query] = defaultdict(list)\n",
    "        \n",
    "        for lang in tqdm(langs):\n",
    "            general_path = f\"{data_folder}/{query}/{lang}/{lang}_Twitter\"\n",
    "            for file in glob(f\"{general_path}/*/{lang}_etm.csv\"):\n",
    "                df = pd.read_csv(file)\n",
    "                df[\"year\"]= df[\"date\"].str[:4]\n",
    "                data_vol_dict[query][lang] = df.groupby(\"year\").agg(\"count\").to_dict()[\"resourceId\"]\n",
    "                data_len_dict[query][lang]+= df[\"LEN\"].tolist()\n",
    "    return data_vol_dict, data_len_dict"
   ]
  },
  {
   "cell_type": "code",
   "execution_count": 45,
   "id": "98ba43c2-3bda-4c41-8086-9105c126f1fe",
   "metadata": {
    "tags": []
   },
   "outputs": [
    {
     "name": "stderr",
     "output_type": "stream",
     "text": [
      "100%|███████████████████████████████████████████████████████████████| 13/13 [00:17<00:00,  1.35s/it]\n",
      "100%|███████████████████████████████████████████████████████████████| 13/13 [00:09<00:00,  1.36it/s]\n"
     ]
    }
   ],
   "source": [
    "data_vol_dict, data_len_dict = get_stats_results()"
   ]
  },
  {
   "cell_type": "code",
   "execution_count": 46,
   "id": "828956cf-5876-46c5-abc9-6356c6d1db35",
   "metadata": {
    "tags": []
   },
   "outputs": [],
   "source": [
    "df_eu = pd.DataFrame.from_dict(data_vol_dict[\"eu\"])\n",
    "df_eu.to_csv(\"../data/stats/eu_twitter_stats_results.csv\")"
   ]
  },
  {
   "cell_type": "code",
   "execution_count": 47,
   "id": "bf026754-7627-4c42-b1e5-289c481b2ec8",
   "metadata": {
    "tags": []
   },
   "outputs": [],
   "source": [
    "df_un = pd.DataFrame.from_dict(data_vol_dict[\"un\"])\n",
    "df_un.to_csv(\"../data/stats/un_twitter_stats_results.csv\")"
   ]
  },
  {
   "cell_type": "code",
   "execution_count": 48,
   "id": "c12b167b-9494-4372-8342-074fef7607bf",
   "metadata": {
    "tags": []
   },
   "outputs": [
    {
     "data": {
      "text/html": [
       "<div>\n",
       "<style scoped>\n",
       "    .dataframe tbody tr th:only-of-type {\n",
       "        vertical-align: middle;\n",
       "    }\n",
       "\n",
       "    .dataframe tbody tr th {\n",
       "        vertical-align: top;\n",
       "    }\n",
       "\n",
       "    .dataframe thead th {\n",
       "        text-align: right;\n",
       "    }\n",
       "</style>\n",
       "<table border=\"1\" class=\"dataframe\">\n",
       "  <thead>\n",
       "    <tr style=\"text-align: right;\">\n",
       "      <th></th>\n",
       "      <th>cs</th>\n",
       "      <th>da</th>\n",
       "      <th>de</th>\n",
       "      <th>es</th>\n",
       "      <th>hu</th>\n",
       "      <th>it</th>\n",
       "      <th>nl</th>\n",
       "      <th>pl</th>\n",
       "      <th>sk</th>\n",
       "      <th>sv</th>\n",
       "    </tr>\n",
       "  </thead>\n",
       "  <tbody>\n",
       "    <tr>\n",
       "      <th>2014</th>\n",
       "      <td>485.0</td>\n",
       "      <td>6953</td>\n",
       "      <td>30527.0</td>\n",
       "      <td>55136.0</td>\n",
       "      <td>281.0</td>\n",
       "      <td>22745.0</td>\n",
       "      <td>10218.0</td>\n",
       "      <td>789.0</td>\n",
       "      <td>7.0</td>\n",
       "      <td>12459.0</td>\n",
       "    </tr>\n",
       "    <tr>\n",
       "      <th>2015</th>\n",
       "      <td>6734.0</td>\n",
       "      <td>47912</td>\n",
       "      <td>189031.0</td>\n",
       "      <td>335694.0</td>\n",
       "      <td>2195.0</td>\n",
       "      <td>77929.0</td>\n",
       "      <td>88132.0</td>\n",
       "      <td>12156.0</td>\n",
       "      <td>364.0</td>\n",
       "      <td>53170.0</td>\n",
       "    </tr>\n",
       "    <tr>\n",
       "      <th>2016</th>\n",
       "      <td>6492.0</td>\n",
       "      <td>43053</td>\n",
       "      <td>210302.0</td>\n",
       "      <td>496226.0</td>\n",
       "      <td>1932.0</td>\n",
       "      <td>71828.0</td>\n",
       "      <td>92739.0</td>\n",
       "      <td>12719.0</td>\n",
       "      <td>31.0</td>\n",
       "      <td>34770.0</td>\n",
       "    </tr>\n",
       "    <tr>\n",
       "      <th>2017</th>\n",
       "      <td>5672.0</td>\n",
       "      <td>25663</td>\n",
       "      <td>151555.0</td>\n",
       "      <td>181542.0</td>\n",
       "      <td>1150.0</td>\n",
       "      <td>89210.0</td>\n",
       "      <td>91533.0</td>\n",
       "      <td>31027.0</td>\n",
       "      <td>NaN</td>\n",
       "      <td>25614.0</td>\n",
       "    </tr>\n",
       "    <tr>\n",
       "      <th>2018</th>\n",
       "      <td>11676.0</td>\n",
       "      <td>30293</td>\n",
       "      <td>311733.0</td>\n",
       "      <td>187452.0</td>\n",
       "      <td>1722.0</td>\n",
       "      <td>210559.0</td>\n",
       "      <td>145488.0</td>\n",
       "      <td>36832.0</td>\n",
       "      <td>NaN</td>\n",
       "      <td>46928.0</td>\n",
       "    </tr>\n",
       "    <tr>\n",
       "      <th>2019</th>\n",
       "      <td>7802.0</td>\n",
       "      <td>25659</td>\n",
       "      <td>197235.0</td>\n",
       "      <td>123183.0</td>\n",
       "      <td>932.0</td>\n",
       "      <td>143482.0</td>\n",
       "      <td>143736.0</td>\n",
       "      <td>17026.0</td>\n",
       "      <td>NaN</td>\n",
       "      <td>39769.0</td>\n",
       "    </tr>\n",
       "    <tr>\n",
       "      <th>2020</th>\n",
       "      <td>NaN</td>\n",
       "      <td>21166</td>\n",
       "      <td>NaN</td>\n",
       "      <td>NaN</td>\n",
       "      <td>NaN</td>\n",
       "      <td>NaN</td>\n",
       "      <td>NaN</td>\n",
       "      <td>NaN</td>\n",
       "      <td>NaN</td>\n",
       "      <td>NaN</td>\n",
       "    </tr>\n",
       "  </tbody>\n",
       "</table>\n",
       "</div>"
      ],
      "text/plain": [
       "           cs     da        de        es      hu        it        nl       pl  \\\n",
       "2014    485.0   6953   30527.0   55136.0   281.0   22745.0   10218.0    789.0   \n",
       "2015   6734.0  47912  189031.0  335694.0  2195.0   77929.0   88132.0  12156.0   \n",
       "2016   6492.0  43053  210302.0  496226.0  1932.0   71828.0   92739.0  12719.0   \n",
       "2017   5672.0  25663  151555.0  181542.0  1150.0   89210.0   91533.0  31027.0   \n",
       "2018  11676.0  30293  311733.0  187452.0  1722.0  210559.0  145488.0  36832.0   \n",
       "2019   7802.0  25659  197235.0  123183.0   932.0  143482.0  143736.0  17026.0   \n",
       "2020      NaN  21166       NaN       NaN     NaN       NaN       NaN      NaN   \n",
       "\n",
       "         sk       sv  \n",
       "2014    7.0  12459.0  \n",
       "2015  364.0  53170.0  \n",
       "2016   31.0  34770.0  \n",
       "2017    NaN  25614.0  \n",
       "2018    NaN  46928.0  \n",
       "2019    NaN  39769.0  \n",
       "2020    NaN      NaN  "
      ]
     },
     "execution_count": 48,
     "metadata": {},
     "output_type": "execute_result"
    }
   ],
   "source": [
    "df_eu"
   ]
  },
  {
   "cell_type": "code",
   "execution_count": null,
   "id": "72d71646-76db-4202-bc65-0f5bcf97b1c7",
   "metadata": {},
   "outputs": [],
   "source": []
  }
 ],
 "metadata": {
  "kernelspec": {
   "display_name": "mg",
   "language": "python",
   "name": "mg"
  },
  "language_info": {
   "codemirror_mode": {
    "name": "ipython",
    "version": 3
   },
   "file_extension": ".py",
   "mimetype": "text/x-python",
   "name": "python",
   "nbconvert_exporter": "python",
   "pygments_lexer": "ipython3",
   "version": "3.10.9"
  }
 },
 "nbformat": 4,
 "nbformat_minor": 5
}
